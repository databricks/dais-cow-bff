{
 "cells": [
  {
   "cell_type": "code",
   "execution_count": 0,
   "metadata": {
    "application/vnd.databricks.v1+cell": {
     "cellMetadata": {
      "byteLimit": 2048000,
      "rowLimit": 10000
     },
     "inputWidgets": {},
     "nuid": "0b1fb4af-f0c1-4c40-bcfd-9d6fbaeba37b",
     "showTitle": false,
     "title": ""
    }
   },
   "outputs": [],
   "source": [
    "# load table into spark dataframe\n",
    "cows_bff = spark.read.table(\"db.cows_bff\")"
   ]
  },
  {
   "cell_type": "code",
   "execution_count": 0,
   "metadata": {
    "application/vnd.databricks.v1+cell": {
     "cellMetadata": {
      "byteLimit": 2048000,
      "rowLimit": 10000
     },
     "inputWidgets": {},
     "nuid": "cc537c60-ba3e-48fe-8586-6e3b278b29f5",
     "showTitle": false,
     "title": ""
    }
   },
   "outputs": [
    {
     "output_type": "display_data",
     "data": {
      "text/html": [
       "<style scoped>\n",
       "  .table-result-container {\n",
       "    max-height: 300px;\n",
       "    overflow: auto;\n",
       "  }\n",
       "  table, th, td {\n",
       "    border: 1px solid black;\n",
       "    border-collapse: collapse;\n",
       "  }\n",
       "  th, td {\n",
       "    padding: 5px;\n",
       "  }\n",
       "  th {\n",
       "    text-align: left;\n",
       "  }\n",
       "</style><div class='table-result-container'><table class='table-result'><thead style='background-color: white'><tr><th>cow_name</th><th>meal_start</th><th>meal_end</th><th>meal_start_time</th><th>meal_end_time</th><th>duration</th><th>date</th><th>day</th></tr></thead><tbody><tr><td>Butterscotch</td><td>33575</td><td>33936</td><td>9:19:35</td><td>9:25:36</td><td>361</td><td>2023-05-20T00:00:00.000+0000</td><td>Saturday</td></tr><tr><td>Hershey</td><td>32998</td><td>34215</td><td>9:09:58</td><td>9:30:15</td><td>1217</td><td>2023-05-20T00:00:00.000+0000</td><td>Saturday</td></tr><tr><td>Mocha</td><td>33671</td><td>34788</td><td>9:21:11</td><td>9:39:48</td><td>1117</td><td>2023-05-20T00:00:00.000+0000</td><td>Saturday</td></tr><tr><td>Cocoa</td><td>33671</td><td>34788</td><td>9:21:11</td><td>9:39:48</td><td>1117</td><td>2023-05-20T00:00:00.000+0000</td><td>Saturday</td></tr><tr><td>Nutella</td><td>31935</td><td>32628</td><td>8:52:15</td><td>9:03:48</td><td>693</td><td>2023-05-20T00:00:00.000+0000</td><td>Saturday</td></tr><tr><td>Brandy</td><td>33595</td><td>33997</td><td>9:19:55</td><td>9:26:37</td><td>402</td><td>2023-05-20T00:00:00.000+0000</td><td>Saturday</td></tr><tr><td>Peaches</td><td>33004</td><td>33113</td><td>9:10:04</td><td>9:11:53</td><td>109</td><td>2023-05-20T00:00:00.000+0000</td><td>Saturday</td></tr><tr><td>Marshmallow</td><td>32478</td><td>34034</td><td>9:01:18</td><td>9:27:14</td><td>1556</td><td>2023-05-20T00:00:00.000+0000</td><td>Saturday</td></tr><tr><td>Popcorn</td><td>33156</td><td>33564</td><td>9:12:36</td><td>9:19:24</td><td>408</td><td>2023-05-20T00:00:00.000+0000</td><td>Saturday</td></tr><tr><td>Muffin</td><td>34536</td><td>34580</td><td>9:35:36</td><td>9:36:20</td><td>44</td><td>2023-05-20T00:00:00.000+0000</td><td>Saturday</td></tr></tbody></table></div>"
      ]
     },
     "metadata": {
      "application/vnd.databricks.v1+output": {
       "addedWidgets": {},
       "aggData": [],
       "aggError": "",
       "aggOverflow": false,
       "aggSchema": [],
       "aggSeriesLimitReached": false,
       "aggType": "",
       "arguments": {},
       "columnCustomDisplayInfos": {},
       "data": [
        [
         "Butterscotch",
         33575,
         33936,
         "9:19:35",
         "9:25:36",
         361,
         "2023-05-20T00:00:00.000+0000",
         "Saturday"
        ],
        [
         "Hershey",
         32998,
         34215,
         "9:09:58",
         "9:30:15",
         1217,
         "2023-05-20T00:00:00.000+0000",
         "Saturday"
        ],
        [
         "Mocha",
         33671,
         34788,
         "9:21:11",
         "9:39:48",
         1117,
         "2023-05-20T00:00:00.000+0000",
         "Saturday"
        ],
        [
         "Cocoa",
         33671,
         34788,
         "9:21:11",
         "9:39:48",
         1117,
         "2023-05-20T00:00:00.000+0000",
         "Saturday"
        ],
        [
         "Nutella",
         31935,
         32628,
         "8:52:15",
         "9:03:48",
         693,
         "2023-05-20T00:00:00.000+0000",
         "Saturday"
        ],
        [
         "Brandy",
         33595,
         33997,
         "9:19:55",
         "9:26:37",
         402,
         "2023-05-20T00:00:00.000+0000",
         "Saturday"
        ],
        [
         "Peaches",
         33004,
         33113,
         "9:10:04",
         "9:11:53",
         109,
         "2023-05-20T00:00:00.000+0000",
         "Saturday"
        ],
        [
         "Marshmallow",
         32478,
         34034,
         "9:01:18",
         "9:27:14",
         1556,
         "2023-05-20T00:00:00.000+0000",
         "Saturday"
        ],
        [
         "Popcorn",
         33156,
         33564,
         "9:12:36",
         "9:19:24",
         408,
         "2023-05-20T00:00:00.000+0000",
         "Saturday"
        ],
        [
         "Muffin",
         34536,
         34580,
         "9:35:36",
         "9:36:20",
         44,
         "2023-05-20T00:00:00.000+0000",
         "Saturday"
        ]
       ],
       "datasetInfos": [],
       "dbfsResultPath": null,
       "isJsonSchema": true,
       "metadata": {},
       "overflow": false,
       "plotOptions": {
        "customPlotOptions": {},
        "displayType": "table",
        "pivotAggregation": null,
        "pivotColumns": null,
        "xColumns": null,
        "yColumns": null
       },
       "removedWidgets": [],
       "schema": [
        {
         "metadata": "{}",
         "name": "cow_name",
         "type": "\"string\""
        },
        {
         "metadata": "{}",
         "name": "meal_start",
         "type": "\"long\""
        },
        {
         "metadata": "{}",
         "name": "meal_end",
         "type": "\"long\""
        },
        {
         "metadata": "{}",
         "name": "meal_start_time",
         "type": "\"string\""
        },
        {
         "metadata": "{}",
         "name": "meal_end_time",
         "type": "\"string\""
        },
        {
         "metadata": "{}",
         "name": "duration",
         "type": "\"long\""
        },
        {
         "metadata": "{}",
         "name": "date",
         "type": "\"timestamp\""
        },
        {
         "metadata": "{}",
         "name": "day",
         "type": "\"string\""
        }
       ],
       "type": "table"
      }
     },
     "output_type": "display_data"
    }
   ],
   "source": [
    "display(cows_bff.limit(10)) "
   ]
  },
  {
   "cell_type": "code",
   "execution_count": 0,
   "metadata": {
    "application/vnd.databricks.v1+cell": {
     "cellMetadata": {
      "byteLimit": 2048000,
      "rowLimit": 10000
     },
     "inputWidgets": {},
     "nuid": "ff4c6e23-816c-43c9-8c6c-a282da46b26d",
     "showTitle": false,
     "title": ""
    }
   },
   "outputs": [
    {
     "output_type": "display_data",
     "data": {
      "text/html": [
       "<style scoped>\n",
       "  .table-result-container {\n",
       "    max-height: 300px;\n",
       "    overflow: auto;\n",
       "  }\n",
       "  table, th, td {\n",
       "    border: 1px solid black;\n",
       "    border-collapse: collapse;\n",
       "  }\n",
       "  th, td {\n",
       "    padding: 5px;\n",
       "  }\n",
       "  th {\n",
       "    text-align: left;\n",
       "  }\n",
       "</style><div class='table-result-container'><table class='table-result'><thead style='background-color: white'><tr><th>cow1</th><th>cow2</th><th>distance</th></tr></thead><tbody><tr><td>Brandy</td><td>Buttercup</td><td>1415.4615384615386</td></tr><tr><td>Brandy</td><td>Butterscotch</td><td>1300.076923076923</td></tr><tr><td>Brandy</td><td>Cocoa</td><td>1425.5384615384614</td></tr><tr><td>Brandy</td><td>Daisy</td><td>1166.8461538461538</td></tr><tr><td>Brandy</td><td>Dottie</td><td>1337.7692307692307</td></tr><tr><td>Brandy</td><td>Hershey</td><td>1737.076923076923</td></tr><tr><td>Brandy</td><td>Magic</td><td>1258.0</td></tr><tr><td>Brandy</td><td>Marshmallow</td><td>1290.2307692307693</td></tr><tr><td>Brandy</td><td>Mocha</td><td>1425.5384615384614</td></tr><tr><td>Brandy</td><td>Muffin</td><td>1372.3846153846155</td></tr><tr><td>Brandy</td><td>Nellie</td><td>1594.8461538461538</td></tr><tr><td>Brandy</td><td>Nutella</td><td>1708.6153846153845</td></tr><tr><td>Brandy</td><td>Peaches</td><td>1598.6923076923076</td></tr><tr><td>Brandy</td><td>Popcorn</td><td>1250.923076923077</td></tr><tr><td>Buttercup</td><td>Brandy</td><td>1415.4615384615386</td></tr><tr><td>Buttercup</td><td>Butterscotch</td><td>1032.1538461538462</td></tr><tr><td>Buttercup</td><td>Cocoa</td><td>1399.5384615384614</td></tr><tr><td>Buttercup</td><td>Daisy</td><td>699.0769230769231</td></tr><tr><td>Buttercup</td><td>Dottie</td><td>1220.6153846153845</td></tr><tr><td>Buttercup</td><td>Hershey</td><td>1452.6923076923076</td></tr><tr><td>Buttercup</td><td>Magic</td><td>1183.6923076923076</td></tr><tr><td>Buttercup</td><td>Marshmallow</td><td>1159.3846153846155</td></tr><tr><td>Buttercup</td><td>Mocha</td><td>1399.5384615384614</td></tr><tr><td>Buttercup</td><td>Muffin</td><td>1306.3846153846155</td></tr><tr><td>Buttercup</td><td>Nellie</td><td>1049.8461538461538</td></tr><tr><td>Buttercup</td><td>Nutella</td><td>1071.5384615384614</td></tr><tr><td>Buttercup</td><td>Peaches</td><td>1462.0</td></tr><tr><td>Buttercup</td><td>Popcorn</td><td>1075.7692307692307</td></tr><tr><td>Butterscotch</td><td>Brandy</td><td>1300.076923076923</td></tr><tr><td>Butterscotch</td><td>Buttercup</td><td>1032.1538461538462</td></tr><tr><td>Butterscotch</td><td>Cocoa</td><td>1129.8461538461538</td></tr><tr><td>Butterscotch</td><td>Daisy</td><td>728.4615384615385</td></tr><tr><td>Butterscotch</td><td>Dottie</td><td>796.8461538461538</td></tr><tr><td>Butterscotch</td><td>Hershey</td><td>1126.4615384615386</td></tr><tr><td>Butterscotch</td><td>Magic</td><td>895.3076923076923</td></tr><tr><td>Butterscotch</td><td>Marshmallow</td><td>981.6153846153846</td></tr><tr><td>Butterscotch</td><td>Mocha</td><td>1129.8461538461538</td></tr><tr><td>Butterscotch</td><td>Muffin</td><td>1152.3846153846155</td></tr><tr><td>Butterscotch</td><td>Nellie</td><td>1221.3076923076924</td></tr><tr><td>Butterscotch</td><td>Nutella</td><td>1164.5384615384614</td></tr><tr><td>Butterscotch</td><td>Peaches</td><td>1107.3846153846155</td></tr><tr><td>Butterscotch</td><td>Popcorn</td><td>867.1538461538462</td></tr><tr><td>Cocoa</td><td>Brandy</td><td>1425.5384615384614</td></tr><tr><td>Cocoa</td><td>Buttercup</td><td>1399.5384615384614</td></tr><tr><td>Cocoa</td><td>Butterscotch</td><td>1129.8461538461538</td></tr><tr><td>Cocoa</td><td>Daisy</td><td>548.1538461538462</td></tr><tr><td>Cocoa</td><td>Dottie</td><td>919.4615384615385</td></tr><tr><td>Cocoa</td><td>Hershey</td><td>1149.6153846153845</td></tr><tr><td>Cocoa</td><td>Magic</td><td>1068.923076923077</td></tr><tr><td>Cocoa</td><td>Marshmallow</td><td>1320.7692307692307</td></tr><tr><td>Cocoa</td><td>Mocha</td><td>981.4615384615385</td></tr><tr><td>Cocoa</td><td>Muffin</td><td>1313.6153846153845</td></tr><tr><td>Cocoa</td><td>Nellie</td><td>1207.1538461538462</td></tr><tr><td>Cocoa</td><td>Nutella</td><td>1269.5384615384614</td></tr><tr><td>Cocoa</td><td>Peaches</td><td>1077.3076923076924</td></tr><tr><td>Cocoa</td><td>Popcorn</td><td>870.4615384615385</td></tr><tr><td>Daisy</td><td>Brandy</td><td>1166.8461538461538</td></tr><tr><td>Daisy</td><td>Buttercup</td><td>699.0769230769231</td></tr><tr><td>Daisy</td><td>Butterscotch</td><td>728.4615384615385</td></tr><tr><td>Daisy</td><td>Cocoa</td><td>548.1538461538462</td></tr><tr><td>Daisy</td><td>Dottie</td><td>726.7692307692307</td></tr><tr><td>Daisy</td><td>Hershey</td><td>1137.6923076923076</td></tr><tr><td>Daisy</td><td>Magic</td><td>596.7692307692307</td></tr><tr><td>Daisy</td><td>Marshmallow</td><td>1012.3076923076923</td></tr><tr><td>Daisy</td><td>Mocha</td><td>548.1538461538462</td></tr><tr><td>Daisy</td><td>Muffin</td><td>545.6923076923077</td></tr><tr><td>Daisy</td><td>Nellie</td><td>1032.7692307692307</td></tr><tr><td>Daisy</td><td>Nutella</td><td>965.2307692307693</td></tr><tr><td>Daisy</td><td>Peaches</td><td>605.2307692307693</td></tr><tr><td>Daisy</td><td>Popcorn</td><td>760.1538461538462</td></tr><tr><td>Dottie</td><td>Brandy</td><td>1337.7692307692307</td></tr><tr><td>Dottie</td><td>Buttercup</td><td>1220.6153846153845</td></tr><tr><td>Dottie</td><td>Butterscotch</td><td>796.8461538461538</td></tr><tr><td>Dottie</td><td>Cocoa</td><td>919.4615384615385</td></tr><tr><td>Dottie</td><td>Daisy</td><td>726.7692307692307</td></tr><tr><td>Dottie</td><td>Hershey</td><td>1311.2307692307693</td></tr><tr><td>Dottie</td><td>Magic</td><td>786.3076923076923</td></tr><tr><td>Dottie</td><td>Marshmallow</td><td>1122.6153846153845</td></tr><tr><td>Dottie</td><td>Mocha</td><td>919.4615384615385</td></tr><tr><td>Dottie</td><td>Muffin</td><td>730.8461538461538</td></tr><tr><td>Dottie</td><td>Nellie</td><td>1037.8461538461538</td></tr><tr><td>Dottie</td><td>Nutella</td><td>1182.3076923076924</td></tr><tr><td>Dottie</td><td>Peaches</td><td>850.7692307692307</td></tr><tr><td>Dottie</td><td>Popcorn</td><td>712.8461538461538</td></tr><tr><td>Hershey</td><td>Brandy</td><td>1737.076923076923</td></tr><tr><td>Hershey</td><td>Buttercup</td><td>1452.6923076923076</td></tr><tr><td>Hershey</td><td>Butterscotch</td><td>1126.4615384615386</td></tr><tr><td>Hershey</td><td>Cocoa</td><td>1149.6153846153845</td></tr><tr><td>Hershey</td><td>Daisy</td><td>1137.6923076923076</td></tr><tr><td>Hershey</td><td>Dottie</td><td>1311.2307692307693</td></tr><tr><td>Hershey</td><td>Magic</td><td>1006.0769230769231</td></tr><tr><td>Hershey</td><td>Marshmallow</td><td>1372.7692307692307</td></tr><tr><td>Hershey</td><td>Mocha</td><td>1149.6153846153845</td></tr><tr><td>Hershey</td><td>Muffin</td><td>1350.1538461538462</td></tr><tr><td>Hershey</td><td>Nellie</td><td>1300.1538461538462</td></tr><tr><td>Hershey</td><td>Nutella</td><td>1618.2307692307693</td></tr><tr><td>Hershey</td><td>Peaches</td><td>1271.7692307692307</td></tr><tr><td>Hershey</td><td>Popcorn</td><td>1043.4615384615386</td></tr><tr><td>Magic</td><td>Brandy</td><td>1258.0</td></tr><tr><td>Magic</td><td>Buttercup</td><td>1183.6923076923076</td></tr><tr><td>Magic</td><td>Butterscotch</td><td>895.3076923076923</td></tr><tr><td>Magic</td><td>Cocoa</td><td>1068.923076923077</td></tr><tr><td>Magic</td><td>Daisy</td><td>596.7692307692307</td></tr><tr><td>Magic</td><td>Dottie</td><td>786.3076923076923</td></tr><tr><td>Magic</td><td>Hershey</td><td>1006.0769230769231</td></tr><tr><td>Magic</td><td>Marshmallow</td><td>603.4615384615385</td></tr><tr><td>Magic</td><td>Mocha</td><td>1068.923076923077</td></tr><tr><td>Magic</td><td>Muffin</td><td>725.0769230769231</td></tr><tr><td>Magic</td><td>Nellie</td><td>1115.1538461538462</td></tr><tr><td>Magic</td><td>Nutella</td><td>1148.0</td></tr><tr><td>Magic</td><td>Peaches</td><td>1134.076923076923</td></tr><tr><td>Magic</td><td>Popcorn</td><td>647.8461538461538</td></tr><tr><td>Marshmallow</td><td>Brandy</td><td>1290.2307692307693</td></tr><tr><td>Marshmallow</td><td>Buttercup</td><td>1159.3846153846155</td></tr><tr><td>Marshmallow</td><td>Butterscotch</td><td>981.6153846153846</td></tr><tr><td>Marshmallow</td><td>Cocoa</td><td>1320.7692307692307</td></tr><tr><td>Marshmallow</td><td>Daisy</td><td>1012.3076923076923</td></tr><tr><td>Marshmallow</td><td>Dottie</td><td>1122.6153846153845</td></tr><tr><td>Marshmallow</td><td>Hershey</td><td>1372.7692307692307</td></tr><tr><td>Marshmallow</td><td>Magic</td><td>603.4615384615385</td></tr><tr><td>Marshmallow</td><td>Mocha</td><td>1320.7692307692307</td></tr><tr><td>Marshmallow</td><td>Muffin</td><td>1016.5384615384615</td></tr><tr><td>Marshmallow</td><td>Nellie</td><td>828.7692307692307</td></tr><tr><td>Marshmallow</td><td>Nutella</td><td>1185.7692307692307</td></tr><tr><td>Marshmallow</td><td>Peaches</td><td>1087.6923076923076</td></tr><tr><td>Marshmallow</td><td>Popcorn</td><td>888.3846153846154</td></tr><tr><td>Mocha</td><td>Brandy</td><td>1425.5384615384614</td></tr><tr><td>Mocha</td><td>Buttercup</td><td>1399.5384615384614</td></tr><tr><td>Mocha</td><td>Butterscotch</td><td>1129.8461538461538</td></tr><tr><td>Mocha</td><td>Cocoa</td><td>981.4615384615385</td></tr><tr><td>Mocha</td><td>Daisy</td><td>548.1538461538462</td></tr><tr><td>Mocha</td><td>Dottie</td><td>919.4615384615385</td></tr><tr><td>Mocha</td><td>Hershey</td><td>1149.6153846153845</td></tr><tr><td>Mocha</td><td>Magic</td><td>1068.923076923077</td></tr><tr><td>Mocha</td><td>Marshmallow</td><td>1320.7692307692307</td></tr><tr><td>Mocha</td><td>Muffin</td><td>1313.6153846153845</td></tr><tr><td>Mocha</td><td>Nellie</td><td>1207.1538461538462</td></tr><tr><td>Mocha</td><td>Nutella</td><td>1269.5384615384614</td></tr><tr><td>Mocha</td><td>Peaches</td><td>1077.3076923076924</td></tr><tr><td>Mocha</td><td>Popcorn</td><td>870.4615384615385</td></tr><tr><td>Muffin</td><td>Brandy</td><td>1372.3846153846155</td></tr><tr><td>Muffin</td><td>Buttercup</td><td>1306.3846153846155</td></tr><tr><td>Muffin</td><td>Butterscotch</td><td>1152.3846153846155</td></tr><tr><td>Muffin</td><td>Cocoa</td><td>1313.6153846153845</td></tr><tr><td>Muffin</td><td>Daisy</td><td>545.6923076923077</td></tr><tr><td>Muffin</td><td>Dottie</td><td>730.8461538461538</td></tr><tr><td>Muffin</td><td>Hershey</td><td>1350.1538461538462</td></tr><tr><td>Muffin</td><td>Magic</td><td>725.0769230769231</td></tr><tr><td>Muffin</td><td>Marshmallow</td><td>1016.5384615384615</td></tr><tr><td>Muffin</td><td>Mocha</td><td>1313.6153846153845</td></tr><tr><td>Muffin</td><td>Nellie</td><td>1169.076923076923</td></tr><tr><td>Muffin</td><td>Nutella</td><td>1312.7692307692307</td></tr><tr><td>Muffin</td><td>Peaches</td><td>808.6153846153846</td></tr><tr><td>Muffin</td><td>Popcorn</td><td>837.0</td></tr><tr><td>Nellie</td><td>Brandy</td><td>1594.8461538461538</td></tr><tr><td>Nellie</td><td>Buttercup</td><td>1049.8461538461538</td></tr><tr><td>Nellie</td><td>Butterscotch</td><td>1221.3076923076924</td></tr><tr><td>Nellie</td><td>Cocoa</td><td>1207.1538461538462</td></tr><tr><td>Nellie</td><td>Daisy</td><td>1032.7692307692307</td></tr><tr><td>Nellie</td><td>Dottie</td><td>1037.8461538461538</td></tr><tr><td>Nellie</td><td>Hershey</td><td>1300.1538461538462</td></tr><tr><td>Nellie</td><td>Magic</td><td>1115.1538461538462</td></tr><tr><td>Nellie</td><td>Marshmallow</td><td>828.7692307692307</td></tr><tr><td>Nellie</td><td>Mocha</td><td>1207.1538461538462</td></tr><tr><td>Nellie</td><td>Muffin</td><td>1169.076923076923</td></tr><tr><td>Nellie</td><td>Nutella</td><td>1197.2307692307693</td></tr><tr><td>Nellie</td><td>Peaches</td><td>1162.7692307692307</td></tr><tr><td>Nellie</td><td>Popcorn</td><td>928.3846153846154</td></tr><tr><td>Nutella</td><td>Brandy</td><td>1708.6153846153845</td></tr><tr><td>Nutella</td><td>Buttercup</td><td>1071.5384615384614</td></tr><tr><td>Nutella</td><td>Butterscotch</td><td>1164.5384615384614</td></tr><tr><td>Nutella</td><td>Cocoa</td><td>1269.5384615384614</td></tr><tr><td>Nutella</td><td>Daisy</td><td>965.2307692307693</td></tr><tr><td>Nutella</td><td>Dottie</td><td>1182.3076923076924</td></tr><tr><td>Nutella</td><td>Hershey</td><td>1618.2307692307693</td></tr><tr><td>Nutella</td><td>Magic</td><td>1148.0</td></tr><tr><td>Nutella</td><td>Marshmallow</td><td>1185.7692307692307</td></tr><tr><td>Nutella</td><td>Mocha</td><td>1269.5384615384614</td></tr><tr><td>Nutella</td><td>Muffin</td><td>1312.7692307692307</td></tr><tr><td>Nutella</td><td>Nellie</td><td>1197.2307692307693</td></tr><tr><td>Nutella</td><td>Peaches</td><td>1302.1538461538462</td></tr><tr><td>Nutella</td><td>Popcorn</td><td>1084.923076923077</td></tr><tr><td>Peaches</td><td>Brandy</td><td>1598.6923076923076</td></tr><tr><td>Peaches</td><td>Buttercup</td><td>1462.0</td></tr><tr><td>Peaches</td><td>Butterscotch</td><td>1107.3846153846155</td></tr><tr><td>Peaches</td><td>Cocoa</td><td>1077.3076923076924</td></tr><tr><td>Peaches</td><td>Daisy</td><td>605.2307692307693</td></tr><tr><td>Peaches</td><td>Dottie</td><td>850.7692307692307</td></tr><tr><td>Peaches</td><td>Hershey</td><td>1271.7692307692307</td></tr><tr><td>Peaches</td><td>Magic</td><td>1134.076923076923</td></tr><tr><td>Peaches</td><td>Marshmallow</td><td>1087.6923076923076</td></tr><tr><td>Peaches</td><td>Mocha</td><td>1077.3076923076924</td></tr><tr><td>Peaches</td><td>Muffin</td><td>808.6153846153846</td></tr><tr><td>Peaches</td><td>Nellie</td><td>1162.7692307692307</td></tr><tr><td>Peaches</td><td>Nutella</td><td>1302.1538461538462</td></tr><tr><td>Peaches</td><td>Popcorn</td><td>992.1538461538462</td></tr><tr><td>Popcorn</td><td>Brandy</td><td>1250.923076923077</td></tr><tr><td>Popcorn</td><td>Buttercup</td><td>1075.7692307692307</td></tr><tr><td>Popcorn</td><td>Butterscotch</td><td>867.1538461538462</td></tr><tr><td>Popcorn</td><td>Cocoa</td><td>870.4615384615385</td></tr><tr><td>Popcorn</td><td>Daisy</td><td>760.1538461538462</td></tr><tr><td>Popcorn</td><td>Dottie</td><td>712.8461538461538</td></tr><tr><td>Popcorn</td><td>Hershey</td><td>1043.4615384615386</td></tr><tr><td>Popcorn</td><td>Magic</td><td>647.8461538461538</td></tr><tr><td>Popcorn</td><td>Marshmallow</td><td>888.3846153846154</td></tr><tr><td>Popcorn</td><td>Mocha</td><td>870.4615384615385</td></tr><tr><td>Popcorn</td><td>Muffin</td><td>837.0</td></tr><tr><td>Popcorn</td><td>Nellie</td><td>928.3846153846154</td></tr><tr><td>Popcorn</td><td>Nutella</td><td>1084.923076923077</td></tr><tr><td>Popcorn</td><td>Peaches</td><td>992.1538461538462</td></tr></tbody></table></div>"
      ]
     },
     "metadata": {
      "application/vnd.databricks.v1+output": {
       "addedWidgets": {},
       "aggData": [],
       "aggError": "",
       "aggOverflow": false,
       "aggSchema": [],
       "aggSeriesLimitReached": false,
       "aggType": "",
       "arguments": {},
       "columnCustomDisplayInfos": {},
       "data": [
        [
         "Brandy",
         "Buttercup",
         1415.4615384615386
        ],
        [
         "Brandy",
         "Butterscotch",
         1300.076923076923
        ],
        [
         "Brandy",
         "Cocoa",
         1425.5384615384614
        ],
        [
         "Brandy",
         "Daisy",
         1166.8461538461538
        ],
        [
         "Brandy",
         "Dottie",
         1337.7692307692307
        ],
        [
         "Brandy",
         "Hershey",
         1737.076923076923
        ],
        [
         "Brandy",
         "Magic",
         1258.0
        ],
        [
         "Brandy",
         "Marshmallow",
         1290.2307692307693
        ],
        [
         "Brandy",
         "Mocha",
         1425.5384615384614
        ],
        [
         "Brandy",
         "Muffin",
         1372.3846153846155
        ],
        [
         "Brandy",
         "Nellie",
         1594.8461538461538
        ],
        [
         "Brandy",
         "Nutella",
         1708.6153846153845
        ],
        [
         "Brandy",
         "Peaches",
         1598.6923076923076
        ],
        [
         "Brandy",
         "Popcorn",
         1250.923076923077
        ],
        [
         "Buttercup",
         "Brandy",
         1415.4615384615386
        ],
        [
         "Buttercup",
         "Butterscotch",
         1032.1538461538462
        ],
        [
         "Buttercup",
         "Cocoa",
         1399.5384615384614
        ],
        [
         "Buttercup",
         "Daisy",
         699.0769230769231
        ],
        [
         "Buttercup",
         "Dottie",
         1220.6153846153845
        ],
        [
         "Buttercup",
         "Hershey",
         1452.6923076923076
        ],
        [
         "Buttercup",
         "Magic",
         1183.6923076923076
        ],
        [
         "Buttercup",
         "Marshmallow",
         1159.3846153846155
        ],
        [
         "Buttercup",
         "Mocha",
         1399.5384615384614
        ],
        [
         "Buttercup",
         "Muffin",
         1306.3846153846155
        ],
        [
         "Buttercup",
         "Nellie",
         1049.8461538461538
        ],
        [
         "Buttercup",
         "Nutella",
         1071.5384615384614
        ],
        [
         "Buttercup",
         "Peaches",
         1462.0
        ],
        [
         "Buttercup",
         "Popcorn",
         1075.7692307692307
        ],
        [
         "Butterscotch",
         "Brandy",
         1300.076923076923
        ],
        [
         "Butterscotch",
         "Buttercup",
         1032.1538461538462
        ],
        [
         "Butterscotch",
         "Cocoa",
         1129.8461538461538
        ],
        [
         "Butterscotch",
         "Daisy",
         728.4615384615385
        ],
        [
         "Butterscotch",
         "Dottie",
         796.8461538461538
        ],
        [
         "Butterscotch",
         "Hershey",
         1126.4615384615386
        ],
        [
         "Butterscotch",
         "Magic",
         895.3076923076923
        ],
        [
         "Butterscotch",
         "Marshmallow",
         981.6153846153846
        ],
        [
         "Butterscotch",
         "Mocha",
         1129.8461538461538
        ],
        [
         "Butterscotch",
         "Muffin",
         1152.3846153846155
        ],
        [
         "Butterscotch",
         "Nellie",
         1221.3076923076924
        ],
        [
         "Butterscotch",
         "Nutella",
         1164.5384615384614
        ],
        [
         "Butterscotch",
         "Peaches",
         1107.3846153846155
        ],
        [
         "Butterscotch",
         "Popcorn",
         867.1538461538462
        ],
        [
         "Cocoa",
         "Brandy",
         1425.5384615384614
        ],
        [
         "Cocoa",
         "Buttercup",
         1399.5384615384614
        ],
        [
         "Cocoa",
         "Butterscotch",
         1129.8461538461538
        ],
        [
         "Cocoa",
         "Daisy",
         548.1538461538462
        ],
        [
         "Cocoa",
         "Dottie",
         919.4615384615385
        ],
        [
         "Cocoa",
         "Hershey",
         1149.6153846153845
        ],
        [
         "Cocoa",
         "Magic",
         1068.923076923077
        ],
        [
         "Cocoa",
         "Marshmallow",
         1320.7692307692307
        ],
        [
         "Cocoa",
         "Mocha",
         981.4615384615385
        ],
        [
         "Cocoa",
         "Muffin",
         1313.6153846153845
        ],
        [
         "Cocoa",
         "Nellie",
         1207.1538461538462
        ],
        [
         "Cocoa",
         "Nutella",
         1269.5384615384614
        ],
        [
         "Cocoa",
         "Peaches",
         1077.3076923076924
        ],
        [
         "Cocoa",
         "Popcorn",
         870.4615384615385
        ],
        [
         "Daisy",
         "Brandy",
         1166.8461538461538
        ],
        [
         "Daisy",
         "Buttercup",
         699.0769230769231
        ],
        [
         "Daisy",
         "Butterscotch",
         728.4615384615385
        ],
        [
         "Daisy",
         "Cocoa",
         548.1538461538462
        ],
        [
         "Daisy",
         "Dottie",
         726.7692307692307
        ],
        [
         "Daisy",
         "Hershey",
         1137.6923076923076
        ],
        [
         "Daisy",
         "Magic",
         596.7692307692307
        ],
        [
         "Daisy",
         "Marshmallow",
         1012.3076923076923
        ],
        [
         "Daisy",
         "Mocha",
         548.1538461538462
        ],
        [
         "Daisy",
         "Muffin",
         545.6923076923077
        ],
        [
         "Daisy",
         "Nellie",
         1032.7692307692307
        ],
        [
         "Daisy",
         "Nutella",
         965.2307692307693
        ],
        [
         "Daisy",
         "Peaches",
         605.2307692307693
        ],
        [
         "Daisy",
         "Popcorn",
         760.1538461538462
        ],
        [
         "Dottie",
         "Brandy",
         1337.7692307692307
        ],
        [
         "Dottie",
         "Buttercup",
         1220.6153846153845
        ],
        [
         "Dottie",
         "Butterscotch",
         796.8461538461538
        ],
        [
         "Dottie",
         "Cocoa",
         919.4615384615385
        ],
        [
         "Dottie",
         "Daisy",
         726.7692307692307
        ],
        [
         "Dottie",
         "Hershey",
         1311.2307692307693
        ],
        [
         "Dottie",
         "Magic",
         786.3076923076923
        ],
        [
         "Dottie",
         "Marshmallow",
         1122.6153846153845
        ],
        [
         "Dottie",
         "Mocha",
         919.4615384615385
        ],
        [
         "Dottie",
         "Muffin",
         730.8461538461538
        ],
        [
         "Dottie",
         "Nellie",
         1037.8461538461538
        ],
        [
         "Dottie",
         "Nutella",
         1182.3076923076924
        ],
        [
         "Dottie",
         "Peaches",
         850.7692307692307
        ],
        [
         "Dottie",
         "Popcorn",
         712.8461538461538
        ],
        [
         "Hershey",
         "Brandy",
         1737.076923076923
        ],
        [
         "Hershey",
         "Buttercup",
         1452.6923076923076
        ],
        [
         "Hershey",
         "Butterscotch",
         1126.4615384615386
        ],
        [
         "Hershey",
         "Cocoa",
         1149.6153846153845
        ],
        [
         "Hershey",
         "Daisy",
         1137.6923076923076
        ],
        [
         "Hershey",
         "Dottie",
         1311.2307692307693
        ],
        [
         "Hershey",
         "Magic",
         1006.0769230769231
        ],
        [
         "Hershey",
         "Marshmallow",
         1372.7692307692307
        ],
        [
         "Hershey",
         "Mocha",
         1149.6153846153845
        ],
        [
         "Hershey",
         "Muffin",
         1350.1538461538462
        ],
        [
         "Hershey",
         "Nellie",
         1300.1538461538462
        ],
        [
         "Hershey",
         "Nutella",
         1618.2307692307693
        ],
        [
         "Hershey",
         "Peaches",
         1271.7692307692307
        ],
        [
         "Hershey",
         "Popcorn",
         1043.4615384615386
        ],
        [
         "Magic",
         "Brandy",
         1258.0
        ],
        [
         "Magic",
         "Buttercup",
         1183.6923076923076
        ],
        [
         "Magic",
         "Butterscotch",
         895.3076923076923
        ],
        [
         "Magic",
         "Cocoa",
         1068.923076923077
        ],
        [
         "Magic",
         "Daisy",
         596.7692307692307
        ],
        [
         "Magic",
         "Dottie",
         786.3076923076923
        ],
        [
         "Magic",
         "Hershey",
         1006.0769230769231
        ],
        [
         "Magic",
         "Marshmallow",
         603.4615384615385
        ],
        [
         "Magic",
         "Mocha",
         1068.923076923077
        ],
        [
         "Magic",
         "Muffin",
         725.0769230769231
        ],
        [
         "Magic",
         "Nellie",
         1115.1538461538462
        ],
        [
         "Magic",
         "Nutella",
         1148.0
        ],
        [
         "Magic",
         "Peaches",
         1134.076923076923
        ],
        [
         "Magic",
         "Popcorn",
         647.8461538461538
        ],
        [
         "Marshmallow",
         "Brandy",
         1290.2307692307693
        ],
        [
         "Marshmallow",
         "Buttercup",
         1159.3846153846155
        ],
        [
         "Marshmallow",
         "Butterscotch",
         981.6153846153846
        ],
        [
         "Marshmallow",
         "Cocoa",
         1320.7692307692307
        ],
        [
         "Marshmallow",
         "Daisy",
         1012.3076923076923
        ],
        [
         "Marshmallow",
         "Dottie",
         1122.6153846153845
        ],
        [
         "Marshmallow",
         "Hershey",
         1372.7692307692307
        ],
        [
         "Marshmallow",
         "Magic",
         603.4615384615385
        ],
        [
         "Marshmallow",
         "Mocha",
         1320.7692307692307
        ],
        [
         "Marshmallow",
         "Muffin",
         1016.5384615384615
        ],
        [
         "Marshmallow",
         "Nellie",
         828.7692307692307
        ],
        [
         "Marshmallow",
         "Nutella",
         1185.7692307692307
        ],
        [
         "Marshmallow",
         "Peaches",
         1087.6923076923076
        ],
        [
         "Marshmallow",
         "Popcorn",
         888.3846153846154
        ],
        [
         "Mocha",
         "Brandy",
         1425.5384615384614
        ],
        [
         "Mocha",
         "Buttercup",
         1399.5384615384614
        ],
        [
         "Mocha",
         "Butterscotch",
         1129.8461538461538
        ],
        [
         "Mocha",
         "Cocoa",
         981.4615384615385
        ],
        [
         "Mocha",
         "Daisy",
         548.1538461538462
        ],
        [
         "Mocha",
         "Dottie",
         919.4615384615385
        ],
        [
         "Mocha",
         "Hershey",
         1149.6153846153845
        ],
        [
         "Mocha",
         "Magic",
         1068.923076923077
        ],
        [
         "Mocha",
         "Marshmallow",
         1320.7692307692307
        ],
        [
         "Mocha",
         "Muffin",
         1313.6153846153845
        ],
        [
         "Mocha",
         "Nellie",
         1207.1538461538462
        ],
        [
         "Mocha",
         "Nutella",
         1269.5384615384614
        ],
        [
         "Mocha",
         "Peaches",
         1077.3076923076924
        ],
        [
         "Mocha",
         "Popcorn",
         870.4615384615385
        ],
        [
         "Muffin",
         "Brandy",
         1372.3846153846155
        ],
        [
         "Muffin",
         "Buttercup",
         1306.3846153846155
        ],
        [
         "Muffin",
         "Butterscotch",
         1152.3846153846155
        ],
        [
         "Muffin",
         "Cocoa",
         1313.6153846153845
        ],
        [
         "Muffin",
         "Daisy",
         545.6923076923077
        ],
        [
         "Muffin",
         "Dottie",
         730.8461538461538
        ],
        [
         "Muffin",
         "Hershey",
         1350.1538461538462
        ],
        [
         "Muffin",
         "Magic",
         725.0769230769231
        ],
        [
         "Muffin",
         "Marshmallow",
         1016.5384615384615
        ],
        [
         "Muffin",
         "Mocha",
         1313.6153846153845
        ],
        [
         "Muffin",
         "Nellie",
         1169.076923076923
        ],
        [
         "Muffin",
         "Nutella",
         1312.7692307692307
        ],
        [
         "Muffin",
         "Peaches",
         808.6153846153846
        ],
        [
         "Muffin",
         "Popcorn",
         837.0
        ],
        [
         "Nellie",
         "Brandy",
         1594.8461538461538
        ],
        [
         "Nellie",
         "Buttercup",
         1049.8461538461538
        ],
        [
         "Nellie",
         "Butterscotch",
         1221.3076923076924
        ],
        [
         "Nellie",
         "Cocoa",
         1207.1538461538462
        ],
        [
         "Nellie",
         "Daisy",
         1032.7692307692307
        ],
        [
         "Nellie",
         "Dottie",
         1037.8461538461538
        ],
        [
         "Nellie",
         "Hershey",
         1300.1538461538462
        ],
        [
         "Nellie",
         "Magic",
         1115.1538461538462
        ],
        [
         "Nellie",
         "Marshmallow",
         828.7692307692307
        ],
        [
         "Nellie",
         "Mocha",
         1207.1538461538462
        ],
        [
         "Nellie",
         "Muffin",
         1169.076923076923
        ],
        [
         "Nellie",
         "Nutella",
         1197.2307692307693
        ],
        [
         "Nellie",
         "Peaches",
         1162.7692307692307
        ],
        [
         "Nellie",
         "Popcorn",
         928.3846153846154
        ],
        [
         "Nutella",
         "Brandy",
         1708.6153846153845
        ],
        [
         "Nutella",
         "Buttercup",
         1071.5384615384614
        ],
        [
         "Nutella",
         "Butterscotch",
         1164.5384615384614
        ],
        [
         "Nutella",
         "Cocoa",
         1269.5384615384614
        ],
        [
         "Nutella",
         "Daisy",
         965.2307692307693
        ],
        [
         "Nutella",
         "Dottie",
         1182.3076923076924
        ],
        [
         "Nutella",
         "Hershey",
         1618.2307692307693
        ],
        [
         "Nutella",
         "Magic",
         1148.0
        ],
        [
         "Nutella",
         "Marshmallow",
         1185.7692307692307
        ],
        [
         "Nutella",
         "Mocha",
         1269.5384615384614
        ],
        [
         "Nutella",
         "Muffin",
         1312.7692307692307
        ],
        [
         "Nutella",
         "Nellie",
         1197.2307692307693
        ],
        [
         "Nutella",
         "Peaches",
         1302.1538461538462
        ],
        [
         "Nutella",
         "Popcorn",
         1084.923076923077
        ],
        [
         "Peaches",
         "Brandy",
         1598.6923076923076
        ],
        [
         "Peaches",
         "Buttercup",
         1462.0
        ],
        [
         "Peaches",
         "Butterscotch",
         1107.3846153846155
        ],
        [
         "Peaches",
         "Cocoa",
         1077.3076923076924
        ],
        [
         "Peaches",
         "Daisy",
         605.2307692307693
        ],
        [
         "Peaches",
         "Dottie",
         850.7692307692307
        ],
        [
         "Peaches",
         "Hershey",
         1271.7692307692307
        ],
        [
         "Peaches",
         "Magic",
         1134.076923076923
        ],
        [
         "Peaches",
         "Marshmallow",
         1087.6923076923076
        ],
        [
         "Peaches",
         "Mocha",
         1077.3076923076924
        ],
        [
         "Peaches",
         "Muffin",
         808.6153846153846
        ],
        [
         "Peaches",
         "Nellie",
         1162.7692307692307
        ],
        [
         "Peaches",
         "Nutella",
         1302.1538461538462
        ],
        [
         "Peaches",
         "Popcorn",
         992.1538461538462
        ],
        [
         "Popcorn",
         "Brandy",
         1250.923076923077
        ],
        [
         "Popcorn",
         "Buttercup",
         1075.7692307692307
        ],
        [
         "Popcorn",
         "Butterscotch",
         867.1538461538462
        ],
        [
         "Popcorn",
         "Cocoa",
         870.4615384615385
        ],
        [
         "Popcorn",
         "Daisy",
         760.1538461538462
        ],
        [
         "Popcorn",
         "Dottie",
         712.8461538461538
        ],
        [
         "Popcorn",
         "Hershey",
         1043.4615384615386
        ],
        [
         "Popcorn",
         "Magic",
         647.8461538461538
        ],
        [
         "Popcorn",
         "Marshmallow",
         888.3846153846154
        ],
        [
         "Popcorn",
         "Mocha",
         870.4615384615385
        ],
        [
         "Popcorn",
         "Muffin",
         837.0
        ],
        [
         "Popcorn",
         "Nellie",
         928.3846153846154
        ],
        [
         "Popcorn",
         "Nutella",
         1084.923076923077
        ],
        [
         "Popcorn",
         "Peaches",
         992.1538461538462
        ]
       ],
       "datasetInfos": [],
       "dbfsResultPath": null,
       "isJsonSchema": true,
       "metadata": {},
       "overflow": false,
       "plotOptions": {
        "customPlotOptions": {},
        "displayType": "table",
        "pivotAggregation": null,
        "pivotColumns": null,
        "xColumns": null,
        "yColumns": null
       },
       "removedWidgets": [],
       "schema": [
        {
         "metadata": "{}",
         "name": "cow1",
         "type": "\"string\""
        },
        {
         "metadata": "{}",
         "name": "cow2",
         "type": "\"string\""
        },
        {
         "metadata": "{}",
         "name": "distance",
         "type": "\"double\""
        }
       ],
       "type": "table"
      }
     },
     "output_type": "display_data"
    }
   ],
   "source": [
    "from pyspark.sql.functions import udf, countDistinct, sum, col\n",
    "from pyspark.sql.types import IntegerType\n",
    "\n",
    "@udf('integer')\n",
    "def calculate_time_overlap(start_interval_1, end_interval_1, start_interval_2, end_interval_2):\n",
    "  # Check if there is no overlap\n",
    "  if end_interval_1 <= start_interval_2 or end_interval_2 <= start_interval_1:\n",
    "    return 0  # No overlap\n",
    "    \n",
    "  # Calculate the overlap duration\n",
    "  overlap_start = min(start_interval_1, start_interval_2)\n",
    "  overlap_end = max(end_interval_1, end_interval_2)\n",
    "  overlap_duration = overlap_end - overlap_start\n",
    "    \n",
    "  return overlap_duration\n",
    "\n",
    "cow1 = cows_bff\\\n",
    "    .withColumnRenamed('cow_name','cow1')\\\n",
    "    .withColumnRenamed('meal_start','meal_start1')\\\n",
    "    .withColumnRenamed('meal_end','meal_end1')\\\n",
    "    .withColumnRenamed('date','date1')\\\n",
    "    .select('cow1','meal_start1','meal_end1','date1')\n",
    "\n",
    "\n",
    "cow2 = cows_bff\\\n",
    "    .withColumnRenamed('cow_name','cow2')\\\n",
    "    .withColumnRenamed('meal_start','meal_start2')\\\n",
    "    .withColumnRenamed('meal_end','meal_end2')\\\n",
    "    .withColumnRenamed('date','date2')\\\n",
    "    .select('cow2','meal_start2','meal_end2','date2')\n",
    "\n",
    "df = cow1.crossJoin(cow2)\\\n",
    "  .where((cow1.cow1 != cow2.cow2) & (cow1.date1 == cow2.date2))\n",
    "\n",
    "df = df\\\n",
    "  .withColumn('overlap', calculate_time_overlap(\"meal_start1\", \"meal_end1\", \"meal_start2\", \"meal_end2\"))\\\n",
    "  .select('cow1','cow2','date1','overlap')\n",
    "\n",
    "df = df.groupBy('cow1', 'cow2').agg(sum('overlap').alias('total_overlap'), countDistinct('date1').alias('distinct_days'))\n",
    "df = df\\\n",
    "  .withColumn('avg_overlap', df.total_overlap / df.distinct_days)\\\n",
    "  .select('cow1','cow2','avg_overlap')\\\n",
    "  .withColumnRenamed('avg_overlap','distance')\\\n",
    "  .sort(col('cow1').asc(), col('cow2').asc())\n",
    "\n",
    "display(df.toPandas())"
   ]
  },
  {
   "cell_type": "code",
   "execution_count": 0,
   "metadata": {
    "application/vnd.databricks.v1+cell": {
     "cellMetadata": {
      "byteLimit": 2048000,
      "rowLimit": 10000
     },
     "inputWidgets": {},
     "nuid": "627a6843-10da-43eb-8289-e02ebdb25cf5",
     "showTitle": false,
     "title": ""
    }
   },
   "outputs": [
    {
     "output_type": "display_data",
     "data": {
      "text/html": [
       "<html>\n",
       "<head><meta charset=\"utf-8\" /></head>\n",
       "<body>\n",
       "    <div>            <script src=\"https://cdnjs.cloudflare.com/ajax/libs/mathjax/2.7.5/MathJax.js?config=TeX-AMS-MML_SVG\"></script><script type=\"text/javascript\">if (window.MathJax && window.MathJax.Hub && window.MathJax.Hub.Config) {window.MathJax.Hub.Config({SVG: {font: \"STIX-Web\"}});}</script>                <script type=\"text/javascript\">window.PlotlyConfig = {MathJaxConfig: 'local'};</script>\n",
       "        <script src=\"https://cdn.plot.ly/plotly-2.12.1.min.js\"></script>                <div id=\"84a97ccf-2090-483d-bb89-ef817d7fa242\" class=\"plotly-graph-div\" style=\"height:500px; width:800px;\"></div>            <script type=\"text/javascript\">                                    window.PLOTLYENV=window.PLOTLYENV || {};                                    if (document.getElementById(\"84a97ccf-2090-483d-bb89-ef817d7fa242\")) {                    Plotly.newPlot(                        \"84a97ccf-2090-483d-bb89-ef817d7fa242\",                        [{\"coloraxis\":\"coloraxis\",\"name\":\"0\",\"x\":[\"Brandy\",\"Buttercup\",\"Butterscotch\",\"Cocoa\",\"Daisy\",\"Dottie\",\"Hershey\",\"Magic\",\"Marshmallow\",\"Mocha\",\"Muffin\",\"Nellie\",\"Nutella\",\"Peaches\",\"Popcorn\"],\"y\":[\"Brandy\",\"Buttercup\",\"Butterscotch\",\"Cocoa\",\"Daisy\",\"Dottie\",\"Hershey\",\"Magic\",\"Marshmallow\",\"Mocha\",\"Muffin\",\"Nellie\",\"Nutella\",\"Peaches\",\"Popcorn\"],\"z\":[[0.0,1415.4615384615386,1300.076923076923,1425.5384615384614,1166.8461538461538,1337.7692307692307,1737.076923076923,1258.0,1290.2307692307693,1425.5384615384614,1372.3846153846155,1594.8461538461538,1708.6153846153845,1598.6923076923076,1250.923076923077],[1415.4615384615386,0.0,1032.1538461538462,1399.5384615384614,699.0769230769231,1220.6153846153845,1452.6923076923076,1183.6923076923076,1159.3846153846155,1399.5384615384614,1306.3846153846155,1049.8461538461538,1071.5384615384614,1462.0,1075.7692307692307],[1300.076923076923,1032.1538461538462,0.0,1129.8461538461538,728.4615384615385,796.8461538461538,1126.4615384615386,895.3076923076923,981.6153846153846,1129.8461538461538,1152.3846153846155,1221.3076923076924,1164.5384615384614,1107.3846153846155,867.1538461538462],[1425.5384615384614,1399.5384615384614,1129.8461538461538,0.0,548.1538461538462,919.4615384615385,1149.6153846153845,1068.923076923077,1320.7692307692307,981.4615384615385,1313.6153846153845,1207.1538461538462,1269.5384615384614,1077.3076923076924,870.4615384615385],[1166.8461538461538,699.0769230769231,728.4615384615385,548.1538461538462,0.0,726.7692307692307,1137.6923076923076,596.7692307692307,1012.3076923076923,548.1538461538462,545.6923076923077,1032.7692307692307,965.2307692307693,605.2307692307693,760.1538461538462],[1337.7692307692307,1220.6153846153845,796.8461538461538,919.4615384615385,726.7692307692307,0.0,1311.2307692307693,786.3076923076923,1122.6153846153845,919.4615384615385,730.8461538461538,1037.8461538461538,1182.3076923076924,850.7692307692307,712.8461538461538],[1737.076923076923,1452.6923076923076,1126.4615384615386,1149.6153846153845,1137.6923076923076,1311.2307692307693,0.0,1006.0769230769231,1372.7692307692307,1149.6153846153845,1350.1538461538462,1300.1538461538462,1618.2307692307693,1271.7692307692307,1043.4615384615386],[1258.0,1183.6923076923076,895.3076923076923,1068.923076923077,596.7692307692307,786.3076923076923,1006.0769230769231,0.0,603.4615384615385,1068.923076923077,725.0769230769231,1115.1538461538462,1148.0,1134.076923076923,647.8461538461538],[1290.2307692307693,1159.3846153846155,981.6153846153846,1320.7692307692307,1012.3076923076923,1122.6153846153845,1372.7692307692307,603.4615384615385,0.0,1320.7692307692307,1016.5384615384615,828.7692307692307,1185.7692307692307,1087.6923076923076,888.3846153846154],[1425.5384615384614,1399.5384615384614,1129.8461538461538,981.4615384615385,548.1538461538462,919.4615384615385,1149.6153846153845,1068.923076923077,1320.7692307692307,0.0,1313.6153846153845,1207.1538461538462,1269.5384615384614,1077.3076923076924,870.4615384615385],[1372.3846153846155,1306.3846153846155,1152.3846153846155,1313.6153846153845,545.6923076923077,730.8461538461538,1350.1538461538462,725.0769230769231,1016.5384615384615,1313.6153846153845,0.0,1169.076923076923,1312.7692307692307,808.6153846153846,837.0],[1594.8461538461538,1049.8461538461538,1221.3076923076924,1207.1538461538462,1032.7692307692307,1037.8461538461538,1300.1538461538462,1115.1538461538462,828.7692307692307,1207.1538461538462,1169.076923076923,0.0,1197.2307692307693,1162.7692307692307,928.3846153846154],[1708.6153846153845,1071.5384615384614,1164.5384615384614,1269.5384615384614,965.2307692307693,1182.3076923076924,1618.2307692307693,1148.0,1185.7692307692307,1269.5384615384614,1312.7692307692307,1197.2307692307693,0.0,1302.1538461538462,1084.923076923077],[1598.6923076923076,1462.0,1107.3846153846155,1077.3076923076924,605.2307692307693,850.7692307692307,1271.7692307692307,1134.076923076923,1087.6923076923076,1077.3076923076924,808.6153846153846,1162.7692307692307,1302.1538461538462,0.0,992.1538461538462],[1250.923076923077,1075.7692307692307,867.1538461538462,870.4615384615385,760.1538461538462,712.8461538461538,1043.4615384615386,647.8461538461538,888.3846153846154,870.4615384615385,837.0,928.3846153846154,1084.923076923077,992.1538461538462,0.0]],\"type\":\"heatmap\",\"xaxis\":\"x\",\"yaxis\":\"y\",\"hovertemplate\":\"Cow 2: %{x}<br>Cow 1: %{y}<br>Distance: %{z}<extra></extra>\"}],                        {\"template\":{\"data\":{\"histogram2dcontour\":[{\"type\":\"histogram2dcontour\",\"colorbar\":{\"outlinewidth\":0,\"ticks\":\"\"},\"colorscale\":[[0.0,\"#0d0887\"],[0.1111111111111111,\"#46039f\"],[0.2222222222222222,\"#7201a8\"],[0.3333333333333333,\"#9c179e\"],[0.4444444444444444,\"#bd3786\"],[0.5555555555555556,\"#d8576b\"],[0.6666666666666666,\"#ed7953\"],[0.7777777777777778,\"#fb9f3a\"],[0.8888888888888888,\"#fdca26\"],[1.0,\"#f0f921\"]]}],\"choropleth\":[{\"type\":\"choropleth\",\"colorbar\":{\"outlinewidth\":0,\"ticks\":\"\"}}],\"histogram2d\":[{\"type\":\"histogram2d\",\"colorbar\":{\"outlinewidth\":0,\"ticks\":\"\"},\"colorscale\":[[0.0,\"#0d0887\"],[0.1111111111111111,\"#46039f\"],[0.2222222222222222,\"#7201a8\"],[0.3333333333333333,\"#9c179e\"],[0.4444444444444444,\"#bd3786\"],[0.5555555555555556,\"#d8576b\"],[0.6666666666666666,\"#ed7953\"],[0.7777777777777778,\"#fb9f3a\"],[0.8888888888888888,\"#fdca26\"],[1.0,\"#f0f921\"]]}],\"heatmap\":[{\"type\":\"heatmap\",\"colorbar\":{\"outlinewidth\":0,\"ticks\":\"\"},\"colorscale\":[[0.0,\"#0d0887\"],[0.1111111111111111,\"#46039f\"],[0.2222222222222222,\"#7201a8\"],[0.3333333333333333,\"#9c179e\"],[0.4444444444444444,\"#bd3786\"],[0.5555555555555556,\"#d8576b\"],[0.6666666666666666,\"#ed7953\"],[0.7777777777777778,\"#fb9f3a\"],[0.8888888888888888,\"#fdca26\"],[1.0,\"#f0f921\"]]}],\"heatmapgl\":[{\"type\":\"heatmapgl\",\"colorbar\":{\"outlinewidth\":0,\"ticks\":\"\"},\"colorscale\":[[0.0,\"#0d0887\"],[0.1111111111111111,\"#46039f\"],[0.2222222222222222,\"#7201a8\"],[0.3333333333333333,\"#9c179e\"],[0.4444444444444444,\"#bd3786\"],[0.5555555555555556,\"#d8576b\"],[0.6666666666666666,\"#ed7953\"],[0.7777777777777778,\"#fb9f3a\"],[0.8888888888888888,\"#fdca26\"],[1.0,\"#f0f921\"]]}],\"contourcarpet\":[{\"type\":\"contourcarpet\",\"colorbar\":{\"outlinewidth\":0,\"ticks\":\"\"}}],\"contour\":[{\"type\":\"contour\",\"colorbar\":{\"outlinewidth\":0,\"ticks\":\"\"},\"colorscale\":[[0.0,\"#0d0887\"],[0.1111111111111111,\"#46039f\"],[0.2222222222222222,\"#7201a8\"],[0.3333333333333333,\"#9c179e\"],[0.4444444444444444,\"#bd3786\"],[0.5555555555555556,\"#d8576b\"],[0.6666666666666666,\"#ed7953\"],[0.7777777777777778,\"#fb9f3a\"],[0.8888888888888888,\"#fdca26\"],[1.0,\"#f0f921\"]]}],\"surface\":[{\"type\":\"surface\",\"colorbar\":{\"outlinewidth\":0,\"ticks\":\"\"},\"colorscale\":[[0.0,\"#0d0887\"],[0.1111111111111111,\"#46039f\"],[0.2222222222222222,\"#7201a8\"],[0.3333333333333333,\"#9c179e\"],[0.4444444444444444,\"#bd3786\"],[0.5555555555555556,\"#d8576b\"],[0.6666666666666666,\"#ed7953\"],[0.7777777777777778,\"#fb9f3a\"],[0.8888888888888888,\"#fdca26\"],[1.0,\"#f0f921\"]]}],\"mesh3d\":[{\"type\":\"mesh3d\",\"colorbar\":{\"outlinewidth\":0,\"ticks\":\"\"}}],\"scatter\":[{\"fillpattern\":{\"fillmode\":\"overlay\",\"size\":10,\"solidity\":0.2},\"type\":\"scatter\"}],\"parcoords\":[{\"type\":\"parcoords\",\"line\":{\"colorbar\":{\"outlinewidth\":0,\"ticks\":\"\"}}}],\"scatterpolargl\":[{\"type\":\"scatterpolargl\",\"marker\":{\"colorbar\":{\"outlinewidth\":0,\"ticks\":\"\"}}}],\"bar\":[{\"error_x\":{\"color\":\"#2a3f5f\"},\"error_y\":{\"color\":\"#2a3f5f\"},\"marker\":{\"line\":{\"color\":\"#E5ECF6\",\"width\":0.5},\"pattern\":{\"fillmode\":\"overlay\",\"size\":10,\"solidity\":0.2}},\"type\":\"bar\"}],\"scattergeo\":[{\"type\":\"scattergeo\",\"marker\":{\"colorbar\":{\"outlinewidth\":0,\"ticks\":\"\"}}}],\"scatterpolar\":[{\"type\":\"scatterpolar\",\"marker\":{\"colorbar\":{\"outlinewidth\":0,\"ticks\":\"\"}}}],\"histogram\":[{\"marker\":{\"pattern\":{\"fillmode\":\"overlay\",\"size\":10,\"solidity\":0.2}},\"type\":\"histogram\"}],\"scattergl\":[{\"type\":\"scattergl\",\"marker\":{\"colorbar\":{\"outlinewidth\":0,\"ticks\":\"\"}}}],\"scatter3d\":[{\"type\":\"scatter3d\",\"line\":{\"colorbar\":{\"outlinewidth\":0,\"ticks\":\"\"}},\"marker\":{\"colorbar\":{\"outlinewidth\":0,\"ticks\":\"\"}}}],\"scattermapbox\":[{\"type\":\"scattermapbox\",\"marker\":{\"colorbar\":{\"outlinewidth\":0,\"ticks\":\"\"}}}],\"scatterternary\":[{\"type\":\"scatterternary\",\"marker\":{\"colorbar\":{\"outlinewidth\":0,\"ticks\":\"\"}}}],\"scattercarpet\":[{\"type\":\"scattercarpet\",\"marker\":{\"colorbar\":{\"outlinewidth\":0,\"ticks\":\"\"}}}],\"carpet\":[{\"aaxis\":{\"endlinecolor\":\"#2a3f5f\",\"gridcolor\":\"white\",\"linecolor\":\"white\",\"minorgridcolor\":\"white\",\"startlinecolor\":\"#2a3f5f\"},\"baxis\":{\"endlinecolor\":\"#2a3f5f\",\"gridcolor\":\"white\",\"linecolor\":\"white\",\"minorgridcolor\":\"white\",\"startlinecolor\":\"#2a3f5f\"},\"type\":\"carpet\"}],\"table\":[{\"cells\":{\"fill\":{\"color\":\"#EBF0F8\"},\"line\":{\"color\":\"white\"}},\"header\":{\"fill\":{\"color\":\"#C8D4E3\"},\"line\":{\"color\":\"white\"}},\"type\":\"table\"}],\"barpolar\":[{\"marker\":{\"line\":{\"color\":\"#E5ECF6\",\"width\":0.5},\"pattern\":{\"fillmode\":\"overlay\",\"size\":10,\"solidity\":0.2}},\"type\":\"barpolar\"}],\"pie\":[{\"automargin\":true,\"type\":\"pie\"}]},\"layout\":{\"autotypenumbers\":\"strict\",\"colorway\":[\"#636efa\",\"#EF553B\",\"#00cc96\",\"#ab63fa\",\"#FFA15A\",\"#19d3f3\",\"#FF6692\",\"#B6E880\",\"#FF97FF\",\"#FECB52\"],\"font\":{\"color\":\"#2a3f5f\"},\"hovermode\":\"closest\",\"hoverlabel\":{\"align\":\"left\"},\"paper_bgcolor\":\"white\",\"plot_bgcolor\":\"#E5ECF6\",\"polar\":{\"bgcolor\":\"#E5ECF6\",\"angularaxis\":{\"gridcolor\":\"white\",\"linecolor\":\"white\",\"ticks\":\"\"},\"radialaxis\":{\"gridcolor\":\"white\",\"linecolor\":\"white\",\"ticks\":\"\"}},\"ternary\":{\"bgcolor\":\"#E5ECF6\",\"aaxis\":{\"gridcolor\":\"white\",\"linecolor\":\"white\",\"ticks\":\"\"},\"baxis\":{\"gridcolor\":\"white\",\"linecolor\":\"white\",\"ticks\":\"\"},\"caxis\":{\"gridcolor\":\"white\",\"linecolor\":\"white\",\"ticks\":\"\"}},\"coloraxis\":{\"colorbar\":{\"outlinewidth\":0,\"ticks\":\"\"}},\"colorscale\":{\"sequential\":[[0.0,\"#0d0887\"],[0.1111111111111111,\"#46039f\"],[0.2222222222222222,\"#7201a8\"],[0.3333333333333333,\"#9c179e\"],[0.4444444444444444,\"#bd3786\"],[0.5555555555555556,\"#d8576b\"],[0.6666666666666666,\"#ed7953\"],[0.7777777777777778,\"#fb9f3a\"],[0.8888888888888888,\"#fdca26\"],[1.0,\"#f0f921\"]],\"sequentialminus\":[[0.0,\"#0d0887\"],[0.1111111111111111,\"#46039f\"],[0.2222222222222222,\"#7201a8\"],[0.3333333333333333,\"#9c179e\"],[0.4444444444444444,\"#bd3786\"],[0.5555555555555556,\"#d8576b\"],[0.6666666666666666,\"#ed7953\"],[0.7777777777777778,\"#fb9f3a\"],[0.8888888888888888,\"#fdca26\"],[1.0,\"#f0f921\"]],\"diverging\":[[0,\"#8e0152\"],[0.1,\"#c51b7d\"],[0.2,\"#de77ae\"],[0.3,\"#f1b6da\"],[0.4,\"#fde0ef\"],[0.5,\"#f7f7f7\"],[0.6,\"#e6f5d0\"],[0.7,\"#b8e186\"],[0.8,\"#7fbc41\"],[0.9,\"#4d9221\"],[1,\"#276419\"]]},\"xaxis\":{\"gridcolor\":\"white\",\"linecolor\":\"white\",\"ticks\":\"\",\"title\":{\"standoff\":15},\"zerolinecolor\":\"white\",\"automargin\":true,\"zerolinewidth\":2},\"yaxis\":{\"gridcolor\":\"white\",\"linecolor\":\"white\",\"ticks\":\"\",\"title\":{\"standoff\":15},\"zerolinecolor\":\"white\",\"automargin\":true,\"zerolinewidth\":2},\"scene\":{\"xaxis\":{\"backgroundcolor\":\"#E5ECF6\",\"gridcolor\":\"white\",\"linecolor\":\"white\",\"showbackground\":true,\"ticks\":\"\",\"zerolinecolor\":\"white\",\"gridwidth\":2},\"yaxis\":{\"backgroundcolor\":\"#E5ECF6\",\"gridcolor\":\"white\",\"linecolor\":\"white\",\"showbackground\":true,\"ticks\":\"\",\"zerolinecolor\":\"white\",\"gridwidth\":2},\"zaxis\":{\"backgroundcolor\":\"#E5ECF6\",\"gridcolor\":\"white\",\"linecolor\":\"white\",\"showbackground\":true,\"ticks\":\"\",\"zerolinecolor\":\"white\",\"gridwidth\":2}},\"shapedefaults\":{\"line\":{\"color\":\"#2a3f5f\"}},\"annotationdefaults\":{\"arrowcolor\":\"#2a3f5f\",\"arrowhead\":0,\"arrowwidth\":1},\"geo\":{\"bgcolor\":\"white\",\"landcolor\":\"#E5ECF6\",\"subunitcolor\":\"white\",\"showland\":true,\"showlakes\":true,\"lakecolor\":\"white\"},\"title\":{\"x\":0.05},\"mapbox\":{\"style\":\"light\"}}},\"xaxis\":{\"anchor\":\"y\",\"domain\":[0.0,1.0],\"scaleanchor\":\"y\",\"constrain\":\"domain\",\"title\":{\"text\":\"Cow 2\"}},\"yaxis\":{\"anchor\":\"x\",\"domain\":[0.0,1.0],\"autorange\":\"reversed\",\"constrain\":\"domain\",\"title\":{\"text\":\"Cow 1\"}},\"coloraxis\":{\"colorbar\":{\"title\":{\"text\":\"Distance\"}},\"colorscale\":[[0.0,\"rgb(246, 210, 169)\"],[0.16666666666666666,\"rgb(245, 183, 142)\"],[0.3333333333333333,\"rgb(241, 156, 124)\"],[0.5,\"rgb(234, 129, 113)\"],[0.6666666666666666,\"rgb(221, 104, 108)\"],[0.8333333333333334,\"rgb(202, 82, 104)\"],[1.0,\"rgb(177, 63, 100)\"]]},\"margin\":{\"t\":60},\"width\":800,\"height\":500},                        {\"responsive\": true}                    )                };                            </script>        </div>\n",
       "</body>\n",
       "</html>"
      ]
     },
     "metadata": {},
     "output_type": "display_data"
    }
   ],
   "source": [
    "pdf = df.toPandas()\n",
    "pdf = pdf.pivot(index='cow1', columns='cow2', values='distance').fillna(0)\n",
    "\n",
    "import plotly.express as px\n",
    "fig = px.imshow(pdf, x=pdf.columns, y=pdf.index, labels=dict(x=\"Cow 2\", y=\"Cow 1\", color=\"Distance\"),color_continuous_scale='redor')\n",
    "fig.update_layout(width=800,height=500)\n",
    "fig.show()\n"
   ]
  },
  {
   "cell_type": "code",
   "execution_count": 0,
   "metadata": {
    "application/vnd.databricks.v1+cell": {
     "cellMetadata": {},
     "inputWidgets": {},
     "nuid": "52feda72-1be8-4be4-8709-001571a7f820",
     "showTitle": false,
     "title": ""
    }
   },
   "outputs": [],
   "source": []
  }
 ],
 "metadata": {
  "application/vnd.databricks.v1+notebook": {
   "dashboards": [],
   "language": "python",
   "notebookMetadata": {
    "pythonIndentUnit": 4
   },
   "notebookName": "Cow BFF",
   "widgets": {}
  }
 },
 "nbformat": 4,
 "nbformat_minor": 0
}
