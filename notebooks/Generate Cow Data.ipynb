{
 "cells": [
  {
   "attachments": {},
   "cell_type": "markdown",
   "metadata": {},
   "source": [
    "## First we initialize our globals"
   ]
  },
  {
   "cell_type": "markdown",
   "metadata": {},
   "source": [
    "Inititalizes the `db.cow_bff` table with sample cow eating time data.\n",
    "\n",
    "Run this notebook from the web UI or by executing the `Databricks: Run File as Workflow on Databricks` command."
   ]
  },
  {
   "cell_type": "code",
   "execution_count": 1,
   "metadata": {},
   "outputs": [],
   "source": [
    "import random\n",
    "\n",
    "start_epoch = 1684540800\n",
    "end_epoch = 1685620800\n",
    "day = 86400\n",
    "\n",
    "cows = ['Butterscotch','Hershey','Mocha','Nutella','Brandy','Peaches','Marshmallow','Popcorn','Muffin','Daisy','Buttercup','Dottie','Magic','Nellie',]\n",
    "\n",
    "meal_1_start = 32400\n",
    "\n",
    "#we will only focus on one meal\n",
    "meal_2_start = 64800\n",
    "\n",
    "meal_duration_start = -600\n",
    "meal_duration_end = 2400\n",
    "\n"
   ]
  },
  {
   "cell_type": "code",
   "execution_count": 2,
   "metadata": {
    "vscode": {
     "languageId": "sql"
    }
   },
   "outputs": [
    {
     "ename": "SyntaxError",
     "evalue": "expected 'else' after 'if' expression (2852187543.py, line 2)",
     "output_type": "error",
     "traceback": [
      "\u001b[0;36m  Cell \u001b[0;32mIn[2], line 2\u001b[0;36m\u001b[0m\n\u001b[0;31m    create schema if not exists db;\u001b[0m\n\u001b[0m           ^\u001b[0m\n\u001b[0;31mSyntaxError\u001b[0m\u001b[0;31m:\u001b[0m expected 'else' after 'if' expression\n"
     ]
    }
   ],
   "source": [
    "%sql\n",
    "create schema if not exists db;"
   ]
  },
  {
   "cell_type": "code",
   "execution_count": null,
   "metadata": {
    "vscode": {
     "languageId": "sql"
    }
   },
   "outputs": [],
   "source": [
    "%sql\n",
    "drop table if exists db.cows_bff;"
   ]
  },
  {
   "cell_type": "code",
   "execution_count": 51,
   "metadata": {},
   "outputs": [],
   "source": [
    "index = start_epoch\n",
    "import pandas as pd\n",
    "import datetime\n",
    "import calendar\n",
    "meal_data2 = None\n",
    "data =[]\n",
    "while True:\n",
    "  if index > end_epoch:\n",
    "    break;\n",
    "  date = datetime.datetime.fromtimestamp(index)\n",
    "  for cow in cows:\n",
    "    r1 = random.randint(meal_duration_start, meal_duration_end)\n",
    "    r2 = random.randint(meal_duration_start, meal_duration_end)\n",
    "    begin = r1\n",
    "    end = r2\n",
    "    if r1 > r2:\n",
    "      begin = r2\n",
    "      end = r1\n",
    "    meal_start_seconds = round(meal_1_start+begin)\n",
    "    meal_end_seconds = round(meal_1_start+end)\n",
    "    meal_data1 = {\n",
    "      'cow_name': cow,\n",
    "      'meal_start': meal_start_seconds, \n",
    "      'meal_end': meal_end_seconds,\n",
    "      'meal_start_time':str(datetime.timedelta(seconds=meal_start_seconds)), \n",
    "      'meal_end_time':str(datetime.timedelta(seconds=meal_end_seconds)),\n",
    "      'duration': meal_end_seconds-meal_start_seconds,\n",
    "      'date': date,\n",
    "      'day': calendar.day_name[date.weekday()]}\n",
    "    data.append(meal_data1)\n",
    "    # we cheat and add Mocha's best friend Cocoa\n",
    "    if(cow=='Mocha'):\n",
    "      cocoa_meal_start_seconds = round(meal_start_seconds - (random.randint(0,500)/10000.0))\n",
    "      cocoa_meal_end_seconds = round(meal_end_seconds- (random.randint(0,500)/10000.0))\n",
    "      meal_data2 = {\n",
    "        'cow_name': 'Cocoa',\n",
    "        'meal_start': cocoa_meal_start_seconds, \n",
    "        'meal_end': cocoa_meal_end_seconds,\n",
    "        'meal_start_time': str(datetime.timedelta(seconds=cocoa_meal_start_seconds)), \n",
    "        'meal_end_time': str(datetime.timedelta(seconds=cocoa_meal_end_seconds)),\n",
    "        'duration': cocoa_meal_end_seconds-cocoa_meal_start_seconds,\n",
    "        'date': date,\n",
    "        'day': calendar.day_name[date.weekday()]}\n",
    "      data.append(meal_data2)\n",
    "    \n",
    "  index = index + day\n",
    "  df = pd.DataFrame(data)\n",
    "  "
   ]
  },
  {
   "cell_type": "code",
   "execution_count": 52,
   "metadata": {},
   "outputs": [],
   "source": [
    "# save data into table\n",
    "spark_df = spark.createDataFrame(df)\n",
    "\n",
    "## Write Frame out as Table\n",
    "spark_df.write.mode(\"overwrite\").saveAsTable(\"db.cows_bff\")"
   ]
  },
  {
   "cell_type": "code",
   "execution_count": null,
   "metadata": {},
   "outputs": [],
   "source": [
    "display(spark_df)"
   ]
  }
 ],
 "metadata": {
  "kernelspec": {
   "display_name": ".venv",
   "language": "python",
   "name": "python3"
  },
  "language_info": {
   "codemirror_mode": {
    "name": "ipython",
    "version": 3
   },
   "file_extension": ".py",
   "mimetype": "text/x-python",
   "name": "python",
   "nbconvert_exporter": "python",
   "pygments_lexer": "ipython3",
   "version": "3.10.11"
  },
  "orig_nbformat": 4
 },
 "nbformat": 4,
 "nbformat_minor": 2
}
